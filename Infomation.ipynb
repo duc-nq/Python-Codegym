{
 "cells": [
  {
   "cell_type": "code",
   "execution_count": 1,
   "id": "29c7273f",
   "metadata": {},
   "outputs": [
    {
     "name": "stdout",
     "output_type": "stream",
     "text": [
      "Ho Ten: Ngo Quang Duc\n"
     ]
    }
   ],
   "source": [
    "print ('Ho Ten: Ngo Quang Duc')"
   ]
  },
  {
   "cell_type": "code",
   "execution_count": 3,
   "id": "028d4bdf",
   "metadata": {},
   "outputs": [
    {
     "name": "stdout",
     "output_type": "stream",
     "text": [
      "Ngay sinh: 19/11/1994\n"
     ]
    }
   ],
   "source": [
    "print ('Ngay sinh: 19/11/1994')"
   ]
  },
  {
   "cell_type": "code",
   "execution_count": 4,
   "id": "3061726d",
   "metadata": {},
   "outputs": [
    {
     "name": "stdout",
     "output_type": "stream",
     "text": [
      "Dia chi: Hai Phong\n"
     ]
    }
   ],
   "source": [
    "print ('Dia chi: Hai Phong')"
   ]
  },
  {
   "cell_type": "code",
   "execution_count": 5,
   "id": "071ab9fc",
   "metadata": {},
   "outputs": [
    {
     "name": "stdout",
     "output_type": "stream",
     "text": [
      "Muc dich tham gia: Tro thanh DA chuyen nghiep\n"
     ]
    }
   ],
   "source": [
    "print ('Muc dich tham gia: Tro thanh DA chuyen nghiep')"
   ]
  },
  {
   "cell_type": "code",
   "execution_count": null,
   "id": "6721dd54",
   "metadata": {},
   "outputs": [],
   "source": []
  }
 ],
 "metadata": {
  "kernelspec": {
   "display_name": "Python 3 (ipykernel)",
   "language": "python",
   "name": "python3"
  },
  "language_info": {
   "codemirror_mode": {
    "name": "ipython",
    "version": 3
   },
   "file_extension": ".py",
   "mimetype": "text/x-python",
   "name": "python",
   "nbconvert_exporter": "python",
   "pygments_lexer": "ipython3",
   "version": "3.9.12"
  }
 },
 "nbformat": 4,
 "nbformat_minor": 5
}
